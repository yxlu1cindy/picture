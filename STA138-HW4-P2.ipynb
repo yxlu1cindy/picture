{
 "cells": [
  {
   "cell_type": "markdown",
   "metadata": {},
   "source": [
    "<h3> Problem 3 </h3>   \n",
    "In a study on CHD (coronary heart disease), 200 individuals from each of the six age groups were taken,and presence or absence of CHD of each sample individual was recorded. The following data were obtained.    \n",
    "\n",
    "\n",
    "|         |    CHD   |        |\n",
    "|:-------:|:--------:|:------:|\n",
    "|   Age   |  Present | Absent |\n",
    "| [25,35] |    10    |   190  |\n",
    "| [35,45] |    23    |   177  |\n",
    "| [45,55] |    71    |   129  |\n",
    "| [55,65] |    133   |   67   |\n",
    "| [65,75] |    179   |   21   |\n",
    "| [75,85] |    191   |    6   |\n",
    "   \n",
    "The model is $\\pi'(X) =\\beta_0+\\beta_1X$, where X=age,$\\pi(X)$ is the proportion with CHD present at age X,and $\\pi'(X)$ is the logit of $\\pi(X)$.   \n",
    "\n",
    "A logistic regression model was fitted using the R command:   \n",
    "glm(cbind(Present,Absent)~Age,family='binomial'),and the following were obtained:$\\hat{\\beta}_0=-7.0593;\\hat{\\beta}_1= 0.12918;s(\\hat{\\beta}_0) = 0.38350;s(\\hat{\\beta}_1) = 0.00685$."
   ]
  },
  {
   "cell_type": "markdown",
   "metadata": {},
   "source": [
    "(a) Obtain the sample proportion of individuals who have CHD for each of the age groups."
   ]
  },
  {
   "cell_type": "code",
   "execution_count": null,
   "metadata": {
    "collapsed": true
   },
   "outputs": [],
   "source": []
  },
  {
   "cell_type": "markdown",
   "metadata": {},
   "source": [
    "(b) Plot the sample proportions as well as the fitted proportions against age X on the same graph. Also plot the logit of sample proportions as well as fitted logistic regression against age on the same graph. Summarize your findings."
   ]
  },
  {
   "cell_type": "code",
   "execution_count": null,
   "metadata": {
    "collapsed": true
   },
   "outputs": [],
   "source": []
  },
  {
   "cell_type": "markdown",
   "metadata": {},
   "source": [
    "c) Obtain an approximate 99% confidence interval for $\\beta_1$. Use this confidence interval to test the hypothesis $H_0:\\beta_1= 0$ against $H_1:\\beta_1 \\not = 0 $ at level $\\alpha= 0.01$."
   ]
  },
  {
   "cell_type": "code",
   "execution_count": null,
   "metadata": {
    "collapsed": true
   },
   "outputs": [],
   "source": []
  },
  {
   "cell_type": "markdown",
   "metadata": {},
   "source": [
    "(d) It is desired to obtain an approximate conÖdence interval for $\\pi(67)$. The SE for $logit(\\hat{\\pi}(67))$ turns out tobe 0.11757. Use this information to obtain an approximate 99% confidence interval for $logit(\\pi(67))$. [Hint: First obtain a 99% confidence interval for $logit(\\pi(67))$."
   ]
  },
  {
   "cell_type": "code",
   "execution_count": null,
   "metadata": {
    "collapsed": true
   },
   "outputs": [],
   "source": []
  }
 ],
 "metadata": {
  "kernelspec": {
   "display_name": "R",
   "language": "R",
   "name": "ir"
  },
  "language_info": {
   "codemirror_mode": "r",
   "file_extension": ".r",
   "mimetype": "text/x-r-source",
   "name": "R",
   "pygments_lexer": "r",
   "version": "3.4.2"
  }
 },
 "nbformat": 4,
 "nbformat_minor": 2
}
