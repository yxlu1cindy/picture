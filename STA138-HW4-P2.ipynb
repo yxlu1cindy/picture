{
 "cells": [
  {
   "cell_type": "markdown",
   "metadata": {},
   "source": [
    "<h3> Problem 3 </h3>   \n",
    "In a study on CHD (coronary heart disease), 200 individuals from each of the six age groups were taken,and presence or absence of CHD of each sample individual was recorded. The following data were obtained.    \n",
    "\n",
    "\n",
    "|         |    CHD   |        |\n",
    "|:-------:|:--------:|:------:|\n",
    "|   Age   |  Present | Absent |\n",
    "| [25,35] |    10    |   190  |\n",
    "| [35,45] |    23    |   177  |\n",
    "| [45,55] |    71    |   129  |\n",
    "| [55,65] |    133   |   67   |\n",
    "| [65,75] |    179   |   21   |\n",
    "| [75,85] |    191   |    6   |\n",
    "   \n",
    "The model is $\\pi'(X) =\\beta_0+\\beta_1X$, where X=age,$\\pi(X)$ is the proportion with CHD present at age X,and $\\pi'(X)$ is the logit of $\\pi(X)$.   \n",
    "\n",
    "A logistic regression model was fitted using the R command:   \n",
    "glm(cbind(Present,Absent)~Age,family='binomial'),and the following were obtained:$\\hat{\\beta}_0=-7.0593;\\hat{\\beta}_1= 0.12918;s(\\hat{\\beta}_0) = 0.38350;s(\\hat{\\beta}_1) = 0.00685$."
   ]
  },
  {
   "cell_type": "markdown",
   "metadata": {},
   "source": [
    "(a) Obtain the sample proportion of individuals who have CHD for each of the age groups."
   ]
  },
  {
   "cell_type": "code",
   "execution_count": 12,
   "metadata": {},
   "outputs": [
    {
     "name": "stdout",
     "output_type": "stream",
     "text": [
      "[1] \"Sample proportion of individuals who have CHD for group  1  is  0.05\"\n",
      "[1] \"Sample proportion of individuals who have CHD for group  2  is  0.115\"\n",
      "[1] \"Sample proportion of individuals who have CHD for group  3  is  0.355\"\n",
      "[1] \"Sample proportion of individuals who have CHD for group  4  is  0.665\"\n",
      "[1] \"Sample proportion of individuals who have CHD for group  5  is  0.895\"\n",
      "[1] \"Sample proportion of individuals who have CHD for group  6  is  0.969543147208122\"\n"
     ]
    }
   ],
   "source": [
    "library(repr)\n",
    "beta_0 = −7.0593; beta_1 = 0.12918; s_beta_0 = 0.38350; s_beta_1 = 0.00685\n",
    "Age = c(30, 40, 50,60,75,80);Present = c(10,23,71,133,179,191);Absent = c(190,177,129,67,21,6)\n",
    "data = data.frame(Age, Present, Absent)\n",
    "for (i in 1:nrow(data)){\n",
    "    print(paste(\"Sample proportion of individuals who have CHD for group \",i,\" is \",data$Present[i]/(data$Present[i]+data$Absent[i])))\n",
    "}"
   ]
  },
  {
   "cell_type": "markdown",
   "metadata": {},
   "source": [
    "(b) Plot the sample proportions as well as the fitted proportions against age X on the same graph. Also plot the logit of sample proportions as well as fitted logistic regression against age on the same graph. Summarize your findings."
   ]
  },
  {
   "cell_type": "markdown",
   "metadata": {},
   "source": [
    "$logit(\\hat{\\pi}(X))= \\hat{\\beta}_0+\\hat{\\beta}_1X$ and $\\hat{\\pi}(X)= \\frac{e^{(\\hat{\\beta}_0+\\hat{\\beta}_1X)}}{1+e^{(\\hat{\\beta_0}+\\hat{\\beta_1}X)}}=\\frac{1}{1+e^{-(\\hat{\\beta_0}+\\hat{\\beta_1}X)}}$"
   ]
  },
  {
   "cell_type": "code",
   "execution_count": 16,
   "metadata": {},
   "outputs": [
    {
     "data": {
      "image/png": "[encoded data removed]",
      "text/plain": [
       "Plot with title \"sample logit vs fitted logit\""
      ]
     },
     "metadata": {},
     "output_type": "display_data"
    }
   ],
   "source": [
    "par(mfrow = c(1,2))\n",
    "options(repr.plot.width=6, repr.plot.height=3)\n",
    "plot(Age,pi_s,main=\"sample prop vs fitted prop\",ylab = \"proportions\")\n",
    "points(Age,1/(1+exp(-(beta_0+beta_1*Age))),col=\"red\",pch=0)\n",
    "plot(Age,log(pi_s / (1-pi_s)),main=\"sample logit vs fitted logit\",,ylab = \"logit(prop)\")\n",
    "points(Age,beta_0+beta_1*Age,col=\"red\",pch=0)"
   ]
  },
  {
   "cell_type": "markdown",
   "metadata": {},
   "source": [
    "From the plot, we can find it fittes well.    \n",
    "The sample proportion looks like a S shape and It looks more linearer after transformation."
   ]
  },
  {
   "cell_type": "markdown",
   "metadata": {},
   "source": [
    "c) Obtain an approximate 99% confidence interval for $\\beta_1$. Use this confidence interval to test the hypothesis $H_0:\\beta_1= 0$ against $H_1:\\beta_1 \\not = 0 $ at level $\\alpha= 0.01$."
   ]
  },
  {
   "cell_type": "code",
   "execution_count": 11,
   "metadata": {},
   "outputs": [
    {
     "name": "stdout",
     "output_type": "stream",
     "text": [
      "[1] \"C.I. for beta_1 is (0.11153556927069,0.14682443072931)\"\n"
     ]
    }
   ],
   "source": [
    "alpha = 0.01;z = qnorm(1-alpha/2)\n",
    "print(paste(\"C.I. for beta_1 is (\",beta_1-z*s_beta_1,\",\",beta_1+z*s_beta_1,\")\",sep = \"\"))"
   ]
  },
  {
   "cell_type": "markdown",
   "metadata": {},
   "source": [
    "Since 0 is not in the Confidence Interval, we fail to reject $H_0$"
   ]
  },
  {
   "cell_type": "markdown",
   "metadata": {},
   "source": [
    "(d) It is desired to obtain an approximate confidence interval for $\\pi(67)$. The SE for $logit(\\hat{\\pi}(67))$ turns out tobe 0.11757. Use this information to obtain an approximate 99% confidence interval for $\\pi(67)$. [Hint: First obtain a 99% confidence interval for $logit(\\pi(67))$."
   ]
  },
  {
   "cell_type": "code",
   "execution_count": 13,
   "metadata": {},
   "outputs": [
    {
     "name": "stdout",
     "output_type": "stream",
     "text": [
      "[1] \"C.I. for logit(pi(67)) is (1.29291974878175,1.89860025121824)\"\n"
     ]
    }
   ],
   "source": [
    "logit_67 = beta_0+beta_1*67\n",
    "s_logit_67 = 0.11757\n",
    "logit_l = logit_67-z*s_logit_67;logit_h = logit_67+z*s_logit_67\n",
    "print(paste(\"C.I. for logit(pi(67)) is (\",logit_l,\",\",logit_h,\")\",sep = \"\"))"
   ]
  },
  {
   "cell_type": "code",
   "execution_count": 14,
   "metadata": {},
   "outputs": [
    {
     "name": "stdout",
     "output_type": "stream",
     "text": [
      "[1] \"C.I. for pi(67)) is (0.00101456461780401,0.00109704347768233)\"\n"
     ]
    }
   ],
   "source": [
    "p_l = exp(beta_0+beta_1*logit_l)/(1+exp(beta_0+beta_1*logit_l));\n",
    "p_h = exp(beta_0+beta_1*logit_h)/(1+exp(beta_0+beta_1*logit_h))\n",
    "print(paste(\"C.I. for pi(67)) is (\",p_l,\",\",p_h,\")\",sep = \"\"))"
   ]
  }
 ],
 "metadata": {
  "kernelspec": {
   "display_name": "R",
   "language": "R",
   "name": "ir"
  },
  "language_info": {
   "codemirror_mode": "r",
   "file_extension": ".r",
   "mimetype": "text/x-r-source",
   "name": "R",
   "pygments_lexer": "r",
   "version": "3.4.2"
  }
 },
 "nbformat": 4,
 "nbformat_minor": 2
}
